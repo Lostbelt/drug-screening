{
 "cells": [
  {
   "cell_type": "code",
   "execution_count": 7,
   "id": "a2278e49-93f3-45b9-9475-123f417633c9",
   "metadata": {
    "tags": []
   },
   "outputs": [],
   "source": [
    "import pandas as pd\n",
    "import pickle\n",
    "from utils import post_processing, video_to_tank, calculate_overlap\n",
    "from scipy.spatial import distance"
   ]
  },
  {
   "cell_type": "code",
   "execution_count": 8,
   "id": "83cda12a-82f1-4ca0-8d39-ea2358448ee0",
   "metadata": {
    "tags": []
   },
   "outputs": [],
   "source": [
    "with open('data.pickle', 'rb') as f:\n",
    "    data = pickle.load(f)"
   ]
  },
  {
   "cell_type": "code",
   "execution_count": 9,
   "id": "42265fc4-1e60-4d39-8140-ca386b33c4ad",
   "metadata": {
    "tags": []
   },
   "outputs": [],
   "source": [
    "data_frame = pd.DataFrame({\n",
    "    'init_place':[],\n",
    "    'init_bottom_time':[],\n",
    "    'total_dist':[],\n",
    "    'mean_speed':[],\n",
    "    'total_bottom_time':[],\n",
    "    'freeze_count':[],\n",
    "    'mean_freeze_time':[],\n",
    "    'hyp_act_count':[],\n",
    "    'hyp_act_total_time':[]}\n",
    ")"
   ]
  },
  {
   "cell_type": "code",
   "execution_count": 11,
   "id": "204cce62-24ba-4763-8907-4e97df559784",
   "metadata": {
    "tags": []
   },
   "outputs": [],
   "source": [
    "for video in data:\n",
    "    for i, v in enumerate(data[video]):\n",
    "        dat, start = post_processing(v[1:])\n",
    "        h, w = v[0]\n",
    "        \n",
    "\n",
    "        abs_dist = 0\n",
    "        abs_speed = 0\n",
    "        count = 0\n",
    "        total_bottom_count = 0\n",
    "        mod = 'up'\n",
    "        down_count = 0\n",
    "        freezes = []\n",
    "        frez_count = 0\n",
    "\n",
    "        hyp_act_ls = []\n",
    "        hyp_act_count = 0\n",
    "        for i in range(1, len(dat)):\n",
    "\n",
    "            x, y = video_to_tank(dat[count], h, w)\n",
    "            if y > 10:\n",
    "                total_bottom_count += 1\n",
    "\n",
    "            if count < (30 * 10) and mod == 'up':\n",
    "                if y > 10:\n",
    "                    mod = 'down'\n",
    "                    down_count += 1\n",
    "                if count == (30 * 10 - 1):\n",
    "                    init = 0\n",
    "                    mod = 'break'\n",
    "            elif mod == 'down' and y > 10:\n",
    "                init = 1\n",
    "                down_count += 1\n",
    "            else:\n",
    "                mod = 'break'\n",
    "\n",
    "\n",
    "\n",
    "\n",
    "\n",
    "\n",
    "            d = distance.euclidean(video_to_tank(dat[i-1], h, w), video_to_tank(dat[i], h, w))\n",
    "            abs_dist += d\n",
    "            abs_speed += d * 30\n",
    "            count += 1\n",
    "\n",
    "\n",
    "            if calculate_overlap(dat[i-1], dat[i]) > 0.95 and d <= 0.0165:\n",
    "                frez_count += 1\n",
    "            elif calculate_overlap(dat[i-1], dat[i]) > 0.95 and abs((video_to_tank(dat[i-1], h, w))[1] - (video_to_tank(dat[i], h, w))[1]) <= 0.0165:\n",
    "                frez_count += 1\n",
    "            else:\n",
    "                freezes.append(frez_count)\n",
    "                frez_count = 0\n",
    "\n",
    "\n",
    "            if d * 30 > 10:\n",
    "                hyp_act_count += 1\n",
    "            else:\n",
    "                hyp_act_ls.append(hyp_act_count)\n",
    "                hyp_act_count = 0\n",
    "\n",
    "\n",
    "\n",
    "\n",
    "        fris = len(freezes)\n",
    "        fris_mean = sum(freezes) / len(freezes)\n",
    "        init_bottom_time = down_count / 30\n",
    "        total_bottom_time = total_bottom_count / 30\n",
    "        mean_speed = abs_speed / count\n",
    "\n",
    "        hyp_act_abs_time = sum(hyp_act_ls) / 30\n",
    "        hyp_acts = len([i for i in hyp_act_ls if i != 0])\n",
    "\n",
    "\n",
    "\n",
    "        data_dict = {\n",
    "            'init_place':init,\n",
    "            'init_bottom_time':init_bottom_time,\n",
    "            'total_dist':abs_dist,\n",
    "            'mean_speed':mean_speed,\n",
    "            'total_bottom_time':total_bottom_time,\n",
    "            'freeze_count':fris,\n",
    "            'mean_freeze_time':fris_mean,\n",
    "            'hyp_act_count': hyp_acts,\n",
    "            'hyp_act_total_time': hyp_act_abs_time} \n",
    "\n",
    "\n",
    "        data_frame = pd.concat([data_frame, pd.DataFrame([data_dict])], ignore_index=True)\n",
    "\n",
    "\n",
    "\n",
    "\n",
    "data_frame"
   ]
  }
 ],
 "metadata": {
  "kernelspec": {
   "display_name": "screening",
   "language": "python",
   "name": "screening"
  },
  "language_info": {
   "codemirror_mode": {
    "name": "ipython",
    "version": 3
   },
   "file_extension": ".py",
   "mimetype": "text/x-python",
   "name": "python",
   "nbconvert_exporter": "python",
   "pygments_lexer": "ipython3",
   "version": "3.9.18"
  }
 },
 "nbformat": 4,
 "nbformat_minor": 5
}
